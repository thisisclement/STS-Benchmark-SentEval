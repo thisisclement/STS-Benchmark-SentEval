{
 "cells": [
  {
   "cell_type": "code",
   "execution_count": 11,
   "metadata": {},
   "outputs": [],
   "source": [
    "import pandas as pd\n"
   ]
  },
  {
   "cell_type": "code",
   "execution_count": 19,
   "metadata": {},
   "outputs": [],
   "source": [
    "benchmark_path = \"benchmark_results/\"\n",
    "df = pd.read_csv(benchmark_path + \"similarity_evaluation_multilang_models_results.csv\")"
   ]
  },
  {
   "cell_type": "code",
   "execution_count": 20,
   "metadata": {},
   "outputs": [],
   "source": [
    "df2 = df.sort_values(by=[\"stsb_dataset_name\", \"cosine_spearman\"], ascending=False).loc[:, [\"model\", \"stsb_dataset_name\", \"cosine_spearman\"]]"
   ]
  },
  {
   "cell_type": "code",
   "execution_count": 21,
   "metadata": {},
   "outputs": [
    {
     "data": {
      "text/html": [
       "<div>\n",
       "<style scoped>\n",
       "    .dataframe tbody tr th:only-of-type {\n",
       "        vertical-align: middle;\n",
       "    }\n",
       "\n",
       "    .dataframe tbody tr th {\n",
       "        vertical-align: top;\n",
       "    }\n",
       "\n",
       "    .dataframe thead th {\n",
       "        text-align: right;\n",
       "    }\n",
       "</style>\n",
       "<table border=\"1\" class=\"dataframe\">\n",
       "  <thead>\n",
       "    <tr style=\"text-align: right;\">\n",
       "      <th></th>\n",
       "      <th>model</th>\n",
       "      <th>stsb_dataset_name</th>\n",
       "      <th>cosine_spearman</th>\n",
       "    </tr>\n",
       "  </thead>\n",
       "  <tbody>\n",
       "    <tr>\n",
       "      <th>11</th>\n",
       "      <td>paraphrase-multilingual-mpnet-base-v2</td>\n",
       "      <td>data/sts-test.csv</td>\n",
       "      <td>0.868222</td>\n",
       "    </tr>\n",
       "    <tr>\n",
       "      <th>4</th>\n",
       "      <td>stsb-xlm-r-multilingual</td>\n",
       "      <td>data/sts-test.csv</td>\n",
       "      <td>0.850366</td>\n",
       "    </tr>\n",
       "    <tr>\n",
       "      <th>10</th>\n",
       "      <td>paraphrase-multilingual-MiniLM-L12-v2</td>\n",
       "      <td>data/sts-test.csv</td>\n",
       "      <td>0.844168</td>\n",
       "    </tr>\n",
       "    <tr>\n",
       "      <th>5</th>\n",
       "      <td>paraphrase-xlm-r-multilingual-v1</td>\n",
       "      <td>data/sts-test.csv</td>\n",
       "      <td>0.834953</td>\n",
       "    </tr>\n",
       "    <tr>\n",
       "      <th>6</th>\n",
       "      <td>distiluse-base-multilingual-cased-v2</td>\n",
       "      <td>data/sts-test.csv</td>\n",
       "      <td>0.807548</td>\n",
       "    </tr>\n",
       "    <tr>\n",
       "      <th>7</th>\n",
       "      <td>LaBSE</td>\n",
       "      <td>data/sts-test.csv</td>\n",
       "      <td>0.722506</td>\n",
       "    </tr>\n",
       "    <tr>\n",
       "      <th>9</th>\n",
       "      <td>paraphrase-multilingual-mpnet-base-v2</td>\n",
       "      <td>data/sts-test-ml.csv</td>\n",
       "      <td>0.634158</td>\n",
       "    </tr>\n",
       "    <tr>\n",
       "      <th>0</th>\n",
       "      <td>stsb-xlm-r-multilingual</td>\n",
       "      <td>data/sts-test-ml.csv</td>\n",
       "      <td>0.633672</td>\n",
       "    </tr>\n",
       "    <tr>\n",
       "      <th>8</th>\n",
       "      <td>paraphrase-multilingual-MiniLM-L12-v2</td>\n",
       "      <td>data/sts-test-ml.csv</td>\n",
       "      <td>0.611835</td>\n",
       "    </tr>\n",
       "    <tr>\n",
       "      <th>1</th>\n",
       "      <td>paraphrase-xlm-r-multilingual-v1</td>\n",
       "      <td>data/sts-test-ml.csv</td>\n",
       "      <td>0.602666</td>\n",
       "    </tr>\n",
       "    <tr>\n",
       "      <th>2</th>\n",
       "      <td>distiluse-base-multilingual-cased-v2</td>\n",
       "      <td>data/sts-test-ml.csv</td>\n",
       "      <td>0.547415</td>\n",
       "    </tr>\n",
       "    <tr>\n",
       "      <th>3</th>\n",
       "      <td>LaBSE</td>\n",
       "      <td>data/sts-test-ml.csv</td>\n",
       "      <td>0.531868</td>\n",
       "    </tr>\n",
       "  </tbody>\n",
       "</table>\n",
       "</div>"
      ],
      "text/plain": [
       "                                    model     stsb_dataset_name  \\\n",
       "11  paraphrase-multilingual-mpnet-base-v2     data/sts-test.csv   \n",
       "4                 stsb-xlm-r-multilingual     data/sts-test.csv   \n",
       "10  paraphrase-multilingual-MiniLM-L12-v2     data/sts-test.csv   \n",
       "5        paraphrase-xlm-r-multilingual-v1     data/sts-test.csv   \n",
       "6    distiluse-base-multilingual-cased-v2     data/sts-test.csv   \n",
       "7                                   LaBSE     data/sts-test.csv   \n",
       "9   paraphrase-multilingual-mpnet-base-v2  data/sts-test-ml.csv   \n",
       "0                 stsb-xlm-r-multilingual  data/sts-test-ml.csv   \n",
       "8   paraphrase-multilingual-MiniLM-L12-v2  data/sts-test-ml.csv   \n",
       "1        paraphrase-xlm-r-multilingual-v1  data/sts-test-ml.csv   \n",
       "2    distiluse-base-multilingual-cased-v2  data/sts-test-ml.csv   \n",
       "3                                   LaBSE  data/sts-test-ml.csv   \n",
       "\n",
       "    cosine_spearman  \n",
       "11         0.868222  \n",
       "4          0.850366  \n",
       "10         0.844168  \n",
       "5          0.834953  \n",
       "6          0.807548  \n",
       "7          0.722506  \n",
       "9          0.634158  \n",
       "0          0.633672  \n",
       "8          0.611835  \n",
       "1          0.602666  \n",
       "2          0.547415  \n",
       "3          0.531868  "
      ]
     },
     "execution_count": 21,
     "metadata": {},
     "output_type": "execute_result"
    }
   ],
   "source": [
    "df2"
   ]
  },
  {
   "cell_type": "code",
   "execution_count": 23,
   "metadata": {},
   "outputs": [],
   "source": [
    "df2.to_csv(benchmark_path + \"sorted_similarity_evaluation_multilang_models_results.csv\", index=False)"
   ]
  },
  {
   "cell_type": "code",
   "execution_count": null,
   "metadata": {},
   "outputs": [],
   "source": []
  }
 ],
 "metadata": {
  "kernelspec": {
   "display_name": "bertopic-new",
   "language": "python",
   "name": "bertopic-new"
  },
  "language_info": {
   "codemirror_mode": {
    "name": "ipython",
    "version": 3
   },
   "file_extension": ".py",
   "mimetype": "text/x-python",
   "name": "python",
   "nbconvert_exporter": "python",
   "pygments_lexer": "ipython3",
   "version": "3.7.6"
  }
 },
 "nbformat": 4,
 "nbformat_minor": 4
}
